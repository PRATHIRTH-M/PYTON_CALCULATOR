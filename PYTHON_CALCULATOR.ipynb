{
  "nbformat": 4,
  "nbformat_minor": 0,
  "metadata": {
    "colab": {
      "provenance": []
    },
    "kernelspec": {
      "name": "python3",
      "display_name": "Python 3"
    },
    "language_info": {
      "name": "python"
    }
  },
  "cells": [
    {
      "cell_type": "code",
      "execution_count": 1,
      "metadata": {
        "colab": {
          "base_uri": "https://localhost:8080/"
        },
        "id": "1tClbx7zAX4c",
        "outputId": "eee5a02b-e6dc-4ff0-d79f-5508d0f50624"
      },
      "outputs": [
        {
          "output_type": "stream",
          "name": "stdout",
          "text": [
            "Select operation:\n",
            "1. Add\n",
            "2. Subtract\n",
            "3. Multiply\n",
            "4. Divide\n",
            "Enter choice (1/2/3/4): 1\n",
            "Enter first number: 12\n",
            "Enter second number: 12\n",
            "Result: 24.0\n",
            "Do you want to perform another calculation? (yes/no): NO\n",
            "Thanks for using the calculator!\n"
          ]
        }
      ],
      "source": [
        "# Simple calculator in Python\n",
        "\n",
        "def add(x, y):\n",
        "    return x + y\n",
        "\n",
        "def subtract(x, y):\n",
        "    return x - y\n",
        "\n",
        "def multiply(x, y):\n",
        "    return x * y\n",
        "\n",
        "def divide(x, y):\n",
        "    if y == 0:\n",
        "        return \"Error! Division by zero.\"\n",
        "    return x / y\n",
        "\n",
        "print(\"Select operation:\")\n",
        "print(\"1. Add\")\n",
        "print(\"2. Subtract\")\n",
        "print(\"3. Multiply\")\n",
        "print(\"4. Divide\")\n",
        "\n",
        "while True:\n",
        "    choice = input(\"Enter choice (1/2/3/4): \")\n",
        "\n",
        "    if choice in ('1', '2', '3', '4'):\n",
        "        try:\n",
        "            num1 = float(input(\"Enter first number: \"))\n",
        "            num2 = float(input(\"Enter second number: \"))\n",
        "        except ValueError:\n",
        "            print(\"Invalid input. Please enter a number.\")\n",
        "            continue\n",
        "\n",
        "        if choice == '1':\n",
        "            print(f\"Result: {add(num1, num2)}\")\n",
        "        elif choice == '2':\n",
        "            print(f\"Result: {subtract(num1, num2)}\")\n",
        "        elif choice == '3':\n",
        "            print(f\"Result: {multiply(num1, num2)}\")\n",
        "        elif choice == '4':\n",
        "            print(f\"Result: {divide(num1, num2)}\")\n",
        "\n",
        "    else:\n",
        "        print(\"Invalid choice. Please choose a valid option.\")\n",
        "\n",
        "    next_calculation = input(\"Do you want to perform another calculation? (yes/no): \").strip().lower()\n",
        "    if next_calculation != 'yes':\n",
        "        break\n",
        "\n",
        "print(\"Thanks for using the calculator!\")\n"
      ]
    }
  ]
}